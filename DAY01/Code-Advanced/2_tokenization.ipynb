{
  "cells": [
    {
      "cell_type": "markdown",
      "metadata": {
        "id": "8oaGGhdmYKqt"
      },
      "source": [
        "# 패키지 설치\n",
        "pip 명령어로 의존성 있는 패키지를 설치합니다.\n",
        "\n"
      ]
    },
    {
      "cell_type": "code",
      "execution_count": 5,
      "metadata": {
        "id": "t8TJkXkpDnSq"
      },
      "outputs": [
        {
          "name": "stdout",
          "output_type": "stream",
          "text": [
            "Requirement already satisfied: ratsnlp in /home/jr/anaconda3/envs/nlp/lib/python3.10/site-packages (1.0.53)\n",
            "Requirement already satisfied: pytorch-lightning==1.6.1 in /home/jr/anaconda3/envs/nlp/lib/python3.10/site-packages (from ratsnlp) (1.6.1)\n",
            "Requirement already satisfied: transformers==4.28.1 in /home/jr/anaconda3/envs/nlp/lib/python3.10/site-packages (from ratsnlp) (4.28.1)\n",
            "Requirement already satisfied: Korpora>=0.2.0 in /home/jr/anaconda3/envs/nlp/lib/python3.10/site-packages (from ratsnlp) (0.2.0)\n",
            "Requirement already satisfied: flask>=1.1.4 in /home/jr/anaconda3/envs/nlp/lib/python3.10/site-packages (from ratsnlp) (3.0.3)\n",
            "Requirement already satisfied: flask-ngrok>=0.0.25 in /home/jr/anaconda3/envs/nlp/lib/python3.10/site-packages (from ratsnlp) (0.0.25)\n",
            "Requirement already satisfied: flask-cors>=3.0.10 in /home/jr/anaconda3/envs/nlp/lib/python3.10/site-packages (from ratsnlp) (4.0.1)\n",
            "Requirement already satisfied: numpy>=1.17.2 in /home/jr/anaconda3/envs/nlp/lib/python3.10/site-packages (from pytorch-lightning==1.6.1->ratsnlp) (2.0.0)\n",
            "Requirement already satisfied: torch>=1.8.* in /home/jr/anaconda3/envs/nlp/lib/python3.10/site-packages (from pytorch-lightning==1.6.1->ratsnlp) (2.3.1)\n",
            "Requirement already satisfied: tqdm>=4.41.0 in /home/jr/anaconda3/envs/nlp/lib/python3.10/site-packages (from pytorch-lightning==1.6.1->ratsnlp) (4.66.4)\n",
            "Requirement already satisfied: PyYAML>=5.4 in /home/jr/anaconda3/envs/nlp/lib/python3.10/site-packages (from pytorch-lightning==1.6.1->ratsnlp) (6.0.1)\n",
            "Requirement already satisfied: fsspec!=2021.06.0,>=2021.05.0 in /home/jr/anaconda3/envs/nlp/lib/python3.10/site-packages (from fsspec[http]!=2021.06.0,>=2021.05.0->pytorch-lightning==1.6.1->ratsnlp) (2024.6.1)\n",
            "Requirement already satisfied: tensorboard>=2.2.0 in /home/jr/anaconda3/envs/nlp/lib/python3.10/site-packages (from pytorch-lightning==1.6.1->ratsnlp) (2.17.0)\n",
            "Requirement already satisfied: torchmetrics>=0.4.1 in /home/jr/anaconda3/envs/nlp/lib/python3.10/site-packages (from pytorch-lightning==1.6.1->ratsnlp) (1.4.0.post0)\n",
            "Requirement already satisfied: pyDeprecate<0.4.0,>=0.3.1 in /home/jr/anaconda3/envs/nlp/lib/python3.10/site-packages (from pytorch-lightning==1.6.1->ratsnlp) (0.3.2)\n",
            "Requirement already satisfied: packaging>=17.0 in /home/jr/anaconda3/envs/nlp/lib/python3.10/site-packages (from pytorch-lightning==1.6.1->ratsnlp) (24.1)\n",
            "Requirement already satisfied: typing-extensions>=4.0.0 in /home/jr/anaconda3/envs/nlp/lib/python3.10/site-packages (from pytorch-lightning==1.6.1->ratsnlp) (4.12.2)\n",
            "Requirement already satisfied: filelock in /home/jr/anaconda3/envs/nlp/lib/python3.10/site-packages (from transformers==4.28.1->ratsnlp) (3.15.4)\n",
            "Requirement already satisfied: huggingface-hub<1.0,>=0.11.0 in /home/jr/anaconda3/envs/nlp/lib/python3.10/site-packages (from transformers==4.28.1->ratsnlp) (0.23.4)\n",
            "Requirement already satisfied: regex!=2019.12.17 in /home/jr/anaconda3/envs/nlp/lib/python3.10/site-packages (from transformers==4.28.1->ratsnlp) (2024.5.15)\n",
            "Requirement already satisfied: requests in /home/jr/anaconda3/envs/nlp/lib/python3.10/site-packages (from transformers==4.28.1->ratsnlp) (2.32.3)\n",
            "Requirement already satisfied: tokenizers!=0.11.3,<0.14,>=0.11.1 in /home/jr/anaconda3/envs/nlp/lib/python3.10/site-packages (from transformers==4.28.1->ratsnlp) (0.13.3)\n",
            "Requirement already satisfied: Werkzeug>=3.0.0 in /home/jr/anaconda3/envs/nlp/lib/python3.10/site-packages (from flask>=1.1.4->ratsnlp) (3.0.3)\n",
            "Requirement already satisfied: Jinja2>=3.1.2 in /home/jr/anaconda3/envs/nlp/lib/python3.10/site-packages (from flask>=1.1.4->ratsnlp) (3.1.4)\n",
            "Requirement already satisfied: itsdangerous>=2.1.2 in /home/jr/anaconda3/envs/nlp/lib/python3.10/site-packages (from flask>=1.1.4->ratsnlp) (2.2.0)\n",
            "Requirement already satisfied: click>=8.1.3 in /home/jr/anaconda3/envs/nlp/lib/python3.10/site-packages (from flask>=1.1.4->ratsnlp) (8.1.7)\n",
            "Requirement already satisfied: blinker>=1.6.2 in /home/jr/anaconda3/envs/nlp/lib/python3.10/site-packages (from flask>=1.1.4->ratsnlp) (1.8.2)\n",
            "Requirement already satisfied: dataclasses>=0.6 in /home/jr/anaconda3/envs/nlp/lib/python3.10/site-packages (from Korpora>=0.2.0->ratsnlp) (0.6)\n",
            "Requirement already satisfied: xlrd>=1.2.0 in /home/jr/anaconda3/envs/nlp/lib/python3.10/site-packages (from Korpora>=0.2.0->ratsnlp) (2.0.1)\n",
            "Requirement already satisfied: aiohttp!=4.0.0a0,!=4.0.0a1 in /home/jr/anaconda3/envs/nlp/lib/python3.10/site-packages (from fsspec[http]!=2021.06.0,>=2021.05.0->pytorch-lightning==1.6.1->ratsnlp) (3.9.5)\n",
            "Requirement already satisfied: MarkupSafe>=2.0 in /home/jr/anaconda3/envs/nlp/lib/python3.10/site-packages (from Jinja2>=3.1.2->flask>=1.1.4->ratsnlp) (2.1.5)\n",
            "Requirement already satisfied: charset-normalizer<4,>=2 in /home/jr/anaconda3/envs/nlp/lib/python3.10/site-packages (from requests->transformers==4.28.1->ratsnlp) (3.3.2)\n",
            "Requirement already satisfied: idna<4,>=2.5 in /home/jr/anaconda3/envs/nlp/lib/python3.10/site-packages (from requests->transformers==4.28.1->ratsnlp) (3.7)\n",
            "Requirement already satisfied: urllib3<3,>=1.21.1 in /home/jr/anaconda3/envs/nlp/lib/python3.10/site-packages (from requests->transformers==4.28.1->ratsnlp) (2.2.2)\n",
            "Requirement already satisfied: certifi>=2017.4.17 in /home/jr/anaconda3/envs/nlp/lib/python3.10/site-packages (from requests->transformers==4.28.1->ratsnlp) (2024.7.4)\n",
            "Requirement already satisfied: absl-py>=0.4 in /home/jr/anaconda3/envs/nlp/lib/python3.10/site-packages (from tensorboard>=2.2.0->pytorch-lightning==1.6.1->ratsnlp) (2.1.0)\n",
            "Requirement already satisfied: grpcio>=1.48.2 in /home/jr/anaconda3/envs/nlp/lib/python3.10/site-packages (from tensorboard>=2.2.0->pytorch-lightning==1.6.1->ratsnlp) (1.64.1)\n",
            "Requirement already satisfied: markdown>=2.6.8 in /home/jr/anaconda3/envs/nlp/lib/python3.10/site-packages (from tensorboard>=2.2.0->pytorch-lightning==1.6.1->ratsnlp) (3.6)\n",
            "Requirement already satisfied: protobuf!=4.24.0,<5.0.0,>=3.19.6 in /home/jr/anaconda3/envs/nlp/lib/python3.10/site-packages (from tensorboard>=2.2.0->pytorch-lightning==1.6.1->ratsnlp) (4.25.3)\n",
            "Requirement already satisfied: setuptools>=41.0.0 in /home/jr/anaconda3/envs/nlp/lib/python3.10/site-packages (from tensorboard>=2.2.0->pytorch-lightning==1.6.1->ratsnlp) (70.1.1)\n",
            "Requirement already satisfied: six>1.9 in /home/jr/anaconda3/envs/nlp/lib/python3.10/site-packages (from tensorboard>=2.2.0->pytorch-lightning==1.6.1->ratsnlp) (1.16.0)\n",
            "Requirement already satisfied: tensorboard-data-server<0.8.0,>=0.7.0 in /home/jr/anaconda3/envs/nlp/lib/python3.10/site-packages (from tensorboard>=2.2.0->pytorch-lightning==1.6.1->ratsnlp) (0.7.2)\n",
            "Requirement already satisfied: sympy in /home/jr/anaconda3/envs/nlp/lib/python3.10/site-packages (from torch>=1.8.*->pytorch-lightning==1.6.1->ratsnlp) (1.12.1)\n",
            "Requirement already satisfied: networkx in /home/jr/anaconda3/envs/nlp/lib/python3.10/site-packages (from torch>=1.8.*->pytorch-lightning==1.6.1->ratsnlp) (3.3)\n",
            "Requirement already satisfied: nvidia-cuda-nvrtc-cu12==12.1.105 in /home/jr/anaconda3/envs/nlp/lib/python3.10/site-packages (from torch>=1.8.*->pytorch-lightning==1.6.1->ratsnlp) (12.1.105)\n",
            "Requirement already satisfied: nvidia-cuda-runtime-cu12==12.1.105 in /home/jr/anaconda3/envs/nlp/lib/python3.10/site-packages (from torch>=1.8.*->pytorch-lightning==1.6.1->ratsnlp) (12.1.105)\n",
            "Requirement already satisfied: nvidia-cuda-cupti-cu12==12.1.105 in /home/jr/anaconda3/envs/nlp/lib/python3.10/site-packages (from torch>=1.8.*->pytorch-lightning==1.6.1->ratsnlp) (12.1.105)\n",
            "Requirement already satisfied: nvidia-cudnn-cu12==8.9.2.26 in /home/jr/anaconda3/envs/nlp/lib/python3.10/site-packages (from torch>=1.8.*->pytorch-lightning==1.6.1->ratsnlp) (8.9.2.26)\n",
            "Requirement already satisfied: nvidia-cublas-cu12==12.1.3.1 in /home/jr/anaconda3/envs/nlp/lib/python3.10/site-packages (from torch>=1.8.*->pytorch-lightning==1.6.1->ratsnlp) (12.1.3.1)\n",
            "Requirement already satisfied: nvidia-cufft-cu12==11.0.2.54 in /home/jr/anaconda3/envs/nlp/lib/python3.10/site-packages (from torch>=1.8.*->pytorch-lightning==1.6.1->ratsnlp) (11.0.2.54)\n",
            "Requirement already satisfied: nvidia-curand-cu12==10.3.2.106 in /home/jr/anaconda3/envs/nlp/lib/python3.10/site-packages (from torch>=1.8.*->pytorch-lightning==1.6.1->ratsnlp) (10.3.2.106)\n",
            "Requirement already satisfied: nvidia-cusolver-cu12==11.4.5.107 in /home/jr/anaconda3/envs/nlp/lib/python3.10/site-packages (from torch>=1.8.*->pytorch-lightning==1.6.1->ratsnlp) (11.4.5.107)\n",
            "Requirement already satisfied: nvidia-cusparse-cu12==12.1.0.106 in /home/jr/anaconda3/envs/nlp/lib/python3.10/site-packages (from torch>=1.8.*->pytorch-lightning==1.6.1->ratsnlp) (12.1.0.106)\n",
            "Requirement already satisfied: nvidia-nccl-cu12==2.20.5 in /home/jr/anaconda3/envs/nlp/lib/python3.10/site-packages (from torch>=1.8.*->pytorch-lightning==1.6.1->ratsnlp) (2.20.5)\n",
            "Requirement already satisfied: nvidia-nvtx-cu12==12.1.105 in /home/jr/anaconda3/envs/nlp/lib/python3.10/site-packages (from torch>=1.8.*->pytorch-lightning==1.6.1->ratsnlp) (12.1.105)\n",
            "Requirement already satisfied: triton==2.3.1 in /home/jr/anaconda3/envs/nlp/lib/python3.10/site-packages (from torch>=1.8.*->pytorch-lightning==1.6.1->ratsnlp) (2.3.1)\n",
            "Requirement already satisfied: nvidia-nvjitlink-cu12 in /home/jr/anaconda3/envs/nlp/lib/python3.10/site-packages (from nvidia-cusolver-cu12==11.4.5.107->torch>=1.8.*->pytorch-lightning==1.6.1->ratsnlp) (12.5.82)\n",
            "Requirement already satisfied: lightning-utilities>=0.8.0 in /home/jr/anaconda3/envs/nlp/lib/python3.10/site-packages (from torchmetrics>=0.4.1->pytorch-lightning==1.6.1->ratsnlp) (0.11.3.post0)\n",
            "Requirement already satisfied: aiosignal>=1.1.2 in /home/jr/anaconda3/envs/nlp/lib/python3.10/site-packages (from aiohttp!=4.0.0a0,!=4.0.0a1->fsspec[http]!=2021.06.0,>=2021.05.0->pytorch-lightning==1.6.1->ratsnlp) (1.3.1)\n",
            "Requirement already satisfied: attrs>=17.3.0 in /home/jr/anaconda3/envs/nlp/lib/python3.10/site-packages (from aiohttp!=4.0.0a0,!=4.0.0a1->fsspec[http]!=2021.06.0,>=2021.05.0->pytorch-lightning==1.6.1->ratsnlp) (23.2.0)\n",
            "Requirement already satisfied: frozenlist>=1.1.1 in /home/jr/anaconda3/envs/nlp/lib/python3.10/site-packages (from aiohttp!=4.0.0a0,!=4.0.0a1->fsspec[http]!=2021.06.0,>=2021.05.0->pytorch-lightning==1.6.1->ratsnlp) (1.4.1)\n",
            "Requirement already satisfied: multidict<7.0,>=4.5 in /home/jr/anaconda3/envs/nlp/lib/python3.10/site-packages (from aiohttp!=4.0.0a0,!=4.0.0a1->fsspec[http]!=2021.06.0,>=2021.05.0->pytorch-lightning==1.6.1->ratsnlp) (6.0.5)\n",
            "Requirement already satisfied: yarl<2.0,>=1.0 in /home/jr/anaconda3/envs/nlp/lib/python3.10/site-packages (from aiohttp!=4.0.0a0,!=4.0.0a1->fsspec[http]!=2021.06.0,>=2021.05.0->pytorch-lightning==1.6.1->ratsnlp) (1.9.4)\n",
            "Requirement already satisfied: async-timeout<5.0,>=4.0 in /home/jr/anaconda3/envs/nlp/lib/python3.10/site-packages (from aiohttp!=4.0.0a0,!=4.0.0a1->fsspec[http]!=2021.06.0,>=2021.05.0->pytorch-lightning==1.6.1->ratsnlp) (4.0.3)\n",
            "Requirement already satisfied: mpmath<1.4.0,>=1.1.0 in /home/jr/anaconda3/envs/nlp/lib/python3.10/site-packages (from sympy->torch>=1.8.*->pytorch-lightning==1.6.1->ratsnlp) (1.3.0)\n",
            "\u001b[33mDEPRECATION: pytorch-lightning 1.6.1 has a non-standard dependency specifier torch>=1.8.*. pip 24.1 will enforce this behaviour change. A possible replacement is to upgrade to a newer version of pytorch-lightning or contact the author to suggest that they release a version with a conforming dependency specifiers. Discussion can be found at https://github.com/pypa/pip/issues/12063\u001b[0m\u001b[33m\n",
            "\u001b[0mNote: you may need to restart the kernel to use updated packages.\n"
          ]
        }
      ],
      "source": [
        "%pip install ratsnlp"
      ]
    },
    {
      "cell_type": "markdown",
      "metadata": {
        "id": "LvPQbN7vs50o"
      },
      "source": [
        "# 구글 드라이브 연동하기\n",
        "\n",
        "지난 튜토리얼에서 구축한 어휘 집합을 저장해 둔 구글 드라이브를 연결합니다. 자신의 구글 계정에 적용됩니다."
      ]
    },
    {
      "cell_type": "code",
      "execution_count": 6,
      "metadata": {
        "id": "EpjMKSVWs6B2"
      },
      "outputs": [],
      "source": [
        "# from google.colab import drive\n",
        "# drive.mount('/gdrive', force_remount=True)"
      ]
    },
    {
      "cell_type": "markdown",
      "metadata": {
        "id": "-Jsq7yrjWYTB"
      },
      "source": [
        "## GPT 입력값 만들기\n",
        "\n",
        "GPT 모델 입력값을 만들려면 Byte-level Byte Pair Encoding 어휘집합 구축 결과(`vocab.json`, `merges.txt`)가 자신의 구글 드라이브 경로(`/gdrive/My Drive/nlpbook/wordpiece`)에 있어야 합니다. 다음을 수행해 이미 만들어 놓은 BBPE 어휘집합을 포함한 GPT 토크나이저를 `tokenizer_gpt`라는 변수로 선언합니다."
      ]
    },
    {
      "cell_type": "code",
      "execution_count": 7,
      "metadata": {
        "id": "aJRVVpC-WyIc"
      },
      "outputs": [
        {
          "name": "stderr",
          "output_type": "stream",
          "text": [
            "/home/jr/anaconda3/envs/nlp/lib/python3.10/site-packages/tqdm/auto.py:21: TqdmWarning: IProgress not found. Please update jupyter and ipywidgets. See https://ipywidgets.readthedocs.io/en/stable/user_install.html\n",
            "  from .autonotebook import tqdm as notebook_tqdm\n"
          ]
        }
      ],
      "source": [
        "from transformers import GPT2Tokenizer\n",
        "tokenizer_gpt = GPT2Tokenizer.from_pretrained(\"./bbpe\")\n",
        "tokenizer_gpt.pad_token = \"[PAD]\""
      ]
    },
    {
      "cell_type": "markdown",
      "metadata": {
        "id": "8n3JlkUbZobu"
      },
      "source": [
        "예시 문장 세 개를 각각 토큰화해보겠습니다."
      ]
    },
    {
      "cell_type": "code",
      "execution_count": 8,
      "metadata": {
        "id": "Vp48wVBIZtYj"
      },
      "outputs": [],
      "source": [
        "sentences = [\n",
        "    \"아 더빙.. 진짜 짜증나네요 목소리\",\n",
        "    \"흠...포스터보고 초딩영화줄....오버연기조차 가볍지 않구나\",\n",
        "    \"별루 였다..\",\n",
        "]\n",
        "tokenized_sentences = [tokenizer_gpt.tokenize(sentence) for sentence in sentences]"
      ]
    },
    {
      "cell_type": "markdown",
      "metadata": {
        "id": "8-ahPBg-Zx71"
      },
      "source": [
        "토큰화 결과를 확인합니다."
      ]
    },
    {
      "cell_type": "code",
      "execution_count": 9,
      "metadata": {
        "id": "__DWz4djZz_u"
      },
      "outputs": [
        {
          "data": {
            "text/plain": [
              "[['ìķĦ', 'ĠëįĶë¹Ļ', '..', 'Ġì§Ħì§ľ', 'Ġì§ľì¦ĿëĤĺ', 'ëĦ¤ìļĶ', 'Ġëª©ìĨĮë¦¬'],\n",
              " ['íĿł',\n",
              "  '...',\n",
              "  'íı¬ìĬ¤íĦ°',\n",
              "  'ë³´ê³ł',\n",
              "  'Ġì´ĪëĶ©',\n",
              "  'ìĺģíĻĶ',\n",
              "  'ì¤Ħ',\n",
              "  '....',\n",
              "  'ìĺ¤ë²Ħ',\n",
              "  'ìĹ°ê¸°',\n",
              "  'ì¡°ì°¨',\n",
              "  'Ġê°Ģë³į',\n",
              "  'ì§Ģ',\n",
              "  'ĠìķĬ',\n",
              "  'êµ¬ëĤĺ'],\n",
              " ['ë³Ħë£¨', 'Ġìĺ', 'Ģëĭ¤', '..']]"
            ]
          },
          "execution_count": 9,
          "metadata": {},
          "output_type": "execute_result"
        }
      ],
      "source": [
        "tokenized_sentences"
      ]
    },
    {
      "cell_type": "markdown",
      "metadata": {
        "id": "XFQWvXsFXC1H"
      },
      "source": [
        "이번 배치의 크기가 3이라고 가정하고 이번 배치의 입력값을 만들어 보겠습니다."
      ]
    },
    {
      "cell_type": "code",
      "execution_count": 10,
      "metadata": {
        "id": "ATwWfngCXQXK"
      },
      "outputs": [],
      "source": [
        "sentences = [\n",
        "    \"아 더빙.. 진짜 짜증나네요 목소리\",\n",
        "    \"흠...포스터보고 초딩영화줄....오버연기조차 가볍지 않구나\",\n",
        "    \"별루 였다..\",\n",
        "]\n",
        "batch_inputs = tokenizer_gpt(\n",
        "    sentences,\n",
        "    padding=\"max_length\",\n",
        "    max_length=12,\n",
        "    truncation=True,\n",
        ")"
      ]
    },
    {
      "cell_type": "markdown",
      "metadata": {
        "id": "F9g0tJ9uXj6O"
      },
      "source": [
        "`batch_inputs`의 내용을 확인해보겠습니다."
      ]
    },
    {
      "cell_type": "code",
      "execution_count": 11,
      "metadata": {
        "id": "T4pnC6DjXkv6"
      },
      "outputs": [
        {
          "data": {
            "text/plain": [
              "dict_keys(['input_ids', 'attention_mask'])"
            ]
          },
          "execution_count": 11,
          "metadata": {},
          "output_type": "execute_result"
        }
      ],
      "source": [
        "batch_inputs.keys()"
      ]
    },
    {
      "cell_type": "code",
      "execution_count": 12,
      "metadata": {
        "id": "XJBRdJegXsZd"
      },
      "outputs": [
        {
          "data": {
            "text/plain": [
              "[[334, 2338, 263, 581, 4055, 464, 3808, 0, 0, 0, 0, 0],\n",
              " [3693, 336, 2876, 758, 2883, 356, 806, 422, 9875, 875, 2960, 7292],\n",
              " [4957, 451, 3653, 263, 0, 0, 0, 0, 0, 0, 0, 0]]"
            ]
          },
          "execution_count": 12,
          "metadata": {},
          "output_type": "execute_result"
        }
      ],
      "source": [
        "batch_inputs['input_ids']"
      ]
    },
    {
      "cell_type": "code",
      "execution_count": 13,
      "metadata": {
        "id": "b_XT5QTsXvBG"
      },
      "outputs": [
        {
          "data": {
            "text/plain": [
              "[[1, 1, 1, 1, 1, 1, 1, 0, 0, 0, 0, 0],\n",
              " [1, 1, 1, 1, 1, 1, 1, 1, 1, 1, 1, 1],\n",
              " [1, 1, 1, 1, 0, 0, 0, 0, 0, 0, 0, 0]]"
            ]
          },
          "execution_count": 13,
          "metadata": {},
          "output_type": "execute_result"
        }
      ],
      "source": [
        "batch_inputs['attention_mask']"
      ]
    },
    {
      "cell_type": "markdown",
      "metadata": {
        "id": "IzWd3u-vXz9c"
      },
      "source": [
        "## BERT 입력값 만들기\n",
        "\n",
        "BERT 모델 입력값을 만들려면 자신의 구글 드라이브 경로(`/gdrive/My Drive/nlpbook/wordpiece`)에 워드피스 어휘집합 구축 결과(`vocab.txt`)가 있어야 합니다. 다음을 수행해 위에서 이미 만들어 놓은 워드피스 어휘집합을 포함한 BERT 토크나이저를 `tokenizer_bert`라는 변수로 선언합니다."
      ]
    },
    {
      "cell_type": "code",
      "execution_count": 14,
      "metadata": {
        "id": "JTFeKKzJX-O7"
      },
      "outputs": [],
      "source": [
        "from transformers import BertTokenizer\n",
        "tokenizer_bert = BertTokenizer.from_pretrained(\n",
        "    \"./wordpiece\",\n",
        "    do_lower_case=False,\n",
        ")"
      ]
    },
    {
      "cell_type": "markdown",
      "metadata": {
        "id": "9pcxOXJxaER5"
      },
      "source": [
        "예시 문장 세 개를 각각 토큰화해보겠습니다."
      ]
    },
    {
      "cell_type": "code",
      "execution_count": 15,
      "metadata": {
        "id": "c9AzWXcvaJKH"
      },
      "outputs": [],
      "source": [
        "sentences = [\n",
        "    \"아 더빙.. 진짜 짜증나네요 목소리\",\n",
        "    \"흠...포스터보고 초딩영화줄....오버연기조차 가볍지 않구나\",\n",
        "    \"별루 였다..\",\n",
        "]\n",
        "tokenized_sentences = [tokenizer_bert.tokenize(sentence) for sentence in sentences]"
      ]
    },
    {
      "cell_type": "markdown",
      "metadata": {
        "id": "xJhOHq-maNLw"
      },
      "source": [
        "토큰화 결과를 확인합니다."
      ]
    },
    {
      "cell_type": "code",
      "execution_count": 16,
      "metadata": {
        "id": "HdzBTLFPaPFU"
      },
      "outputs": [
        {
          "data": {
            "text/plain": [
              "[['아', '더빙', '.', '.', '진짜', '짜증나', '##네요', '목소리'],\n",
              " ['흠',\n",
              "  '.',\n",
              "  '.',\n",
              "  '.',\n",
              "  '포스터',\n",
              "  '##보고',\n",
              "  '초딩',\n",
              "  '##영화',\n",
              "  '##줄',\n",
              "  '.',\n",
              "  '.',\n",
              "  '.',\n",
              "  '.',\n",
              "  '오버',\n",
              "  '##연기',\n",
              "  '##조차',\n",
              "  '가볍',\n",
              "  '##지',\n",
              "  '않',\n",
              "  '##구나'],\n",
              " ['별루', '였다', '.', '.']]"
            ]
          },
          "execution_count": 16,
          "metadata": {},
          "output_type": "execute_result"
        }
      ],
      "source": [
        "tokenized_sentences"
      ]
    },
    {
      "cell_type": "markdown",
      "metadata": {
        "id": "cMxTUoowYHb2"
      },
      "source": [
        "이번 배치의 크기가 3이라고 가정하고 이번 배치의 입력값을 만들어 보겠습니다."
      ]
    },
    {
      "cell_type": "code",
      "execution_count": 17,
      "metadata": {
        "id": "G_sFosQjYIE3"
      },
      "outputs": [],
      "source": [
        "sentences = [\n",
        "    \"아 더빙.. 진짜 짜증나네요 목소리\",\n",
        "    \"흠...포스터보고 초딩영화줄....오버연기조차 가볍지 않구나\",\n",
        "    \"별루 였다..\",\n",
        "]\n",
        "batch_inputs = tokenizer_bert(\n",
        "    sentences,\n",
        "    padding=\"max_length\",\n",
        "    max_length=12,\n",
        "    truncation=True,\n",
        ")"
      ]
    },
    {
      "cell_type": "markdown",
      "metadata": {
        "id": "ohNW5R3zYOW5"
      },
      "source": [
        "`batch_inputs`의 내용을 확인해보겠습니다."
      ]
    },
    {
      "cell_type": "code",
      "execution_count": 18,
      "metadata": {
        "id": "RZiMSoaKYTUX"
      },
      "outputs": [
        {
          "data": {
            "text/plain": [
              "dict_keys(['input_ids', 'token_type_ids', 'attention_mask'])"
            ]
          },
          "execution_count": 18,
          "metadata": {},
          "output_type": "execute_result"
        }
      ],
      "source": [
        "batch_inputs.keys()"
      ]
    },
    {
      "cell_type": "code",
      "execution_count": 19,
      "metadata": {
        "id": "4pWaGuSdYZGR"
      },
      "outputs": [
        {
          "data": {
            "text/plain": [
              "[[2, 621, 2631, 16, 16, 1993, 3678, 1990, 3323, 3, 0, 0],\n",
              " [2, 997, 16, 16, 16, 2609, 2045, 2796, 1981, 1304, 16, 3],\n",
              " [2, 3274, 9507, 16, 16, 3, 0, 0, 0, 0, 0, 0]]"
            ]
          },
          "execution_count": 19,
          "metadata": {},
          "output_type": "execute_result"
        }
      ],
      "source": [
        "batch_inputs['input_ids']"
      ]
    },
    {
      "cell_type": "code",
      "execution_count": 20,
      "metadata": {
        "id": "djtA4xkIYbOk"
      },
      "outputs": [
        {
          "data": {
            "text/plain": [
              "[[1, 1, 1, 1, 1, 1, 1, 1, 1, 1, 0, 0],\n",
              " [1, 1, 1, 1, 1, 1, 1, 1, 1, 1, 1, 1],\n",
              " [1, 1, 1, 1, 1, 1, 0, 0, 0, 0, 0, 0]]"
            ]
          },
          "execution_count": 20,
          "metadata": {},
          "output_type": "execute_result"
        }
      ],
      "source": [
        "batch_inputs['attention_mask']"
      ]
    },
    {
      "cell_type": "code",
      "execution_count": 21,
      "metadata": {
        "id": "cVR15VXZYoTZ"
      },
      "outputs": [
        {
          "data": {
            "text/plain": [
              "[[0, 0, 0, 0, 0, 0, 0, 0, 0, 0, 0, 0],\n",
              " [0, 0, 0, 0, 0, 0, 0, 0, 0, 0, 0, 0],\n",
              " [0, 0, 0, 0, 0, 0, 0, 0, 0, 0, 0, 0]]"
            ]
          },
          "execution_count": 21,
          "metadata": {},
          "output_type": "execute_result"
        }
      ],
      "source": [
        "batch_inputs['token_type_ids']"
      ]
    }
  ],
  "metadata": {
    "colab": {
      "name": "tokenization.ipynb",
      "provenance": []
    },
    "kernelspec": {
      "display_name": "Python 3",
      "name": "python3"
    },
    "language_info": {
      "codemirror_mode": {
        "name": "ipython",
        "version": 3
      },
      "file_extension": ".py",
      "mimetype": "text/x-python",
      "name": "python",
      "nbconvert_exporter": "python",
      "pygments_lexer": "ipython3",
      "version": "3.10.14"
    }
  },
  "nbformat": 4,
  "nbformat_minor": 0
}
